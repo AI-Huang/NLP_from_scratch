{
 "metadata": {
  "language_info": {
   "codemirror_mode": {
    "name": "ipython",
    "version": 3
   },
   "file_extension": ".py",
   "mimetype": "text/x-python",
   "name": "python",
   "nbconvert_exporter": "python",
   "pygments_lexer": "ipython3",
   "version": "3.7.7-final"
  },
  "orig_nbformat": 2,
  "kernelspec": {
   "name": "python3",
   "display_name": "Python 3.7.7 64-bit ('torch': conda)",
   "metadata": {
    "interpreter": {
     "hash": "574e06845ede2e150b1a6f58b916c901f9ecf5923de2aef7f94ec4a671d6e766"
    }
   }
  }
 },
 "nbformat": 4,
 "nbformat_minor": 2,
 "cells": [
  {
   "cell_type": "code",
   "execution_count": 1,
   "metadata": {},
   "outputs": [],
   "source": [
    "#!/usr/bin/env python3\n",
    "# -*- coding: utf-8 -*-\n",
    "# @Date    : Dec-19-20 23:00\n",
    "# @Author  : Kelly Hwong (dianhuangkan@gmail.com)\n",
    "# @Link    : http://example.org\n",
    "\n",
    "import random\n",
    "import torch\n",
    "from utils.load_data import prepare_data\n",
    "from torch_fn.seq2seq import EncoderRNN, AttnDecoderRNN\n",
    "from torch_fn.training import tensors_from_pair, train_iterations"
   ]
  },
  {
   "cell_type": "code",
   "execution_count": 3,
   "metadata": {},
   "outputs": [
    {
     "output_type": "stream",
     "name": "stdout",
     "text": [
      "Reading lines...\n",
      "Read 135842 sentence pairs\n",
      "Trimmed to 10599 sentence pairs\n",
      "Counting words...\n",
      "Counted words:\n",
      "fra 4345\n",
      "eng 2803\n",
      "['vous etes si mechants .', 'you re so mean .']\n"
     ]
    }
   ],
   "source": [
    "input_lang, output_lang, pairs = prepare_data('eng', 'fra', True, max_length=10)\n",
    "\n",
    "pair = random.choice(pairs)\n",
    "print(pair)"
   ]
  },
  {
   "cell_type": "code",
   "execution_count": 4,
   "metadata": {},
   "outputs": [],
   "source": [
    "device = torch.device(\"cuda\" if torch.cuda.is_available() else \"cpu\")\n",
    "input_tensor, target_tensor = tensors_from_pair(input_lang, output_lang, pair, device=device)"
   ]
  },
  {
   "cell_type": "code",
   "execution_count": 8,
   "metadata": {},
   "outputs": [
    {
     "output_type": "stream",
     "name": "stdout",
     "text": [
      "input_tensor: tensor([[ 118],\n        [ 214],\n        [ 417],\n        [1069],\n        [   5],\n        [   1]], device='cuda:0')\ntarget_tensor: tensor([[129],\n        [ 78],\n        [201],\n        [277],\n        [  4],\n        [  1]], device='cuda:0')\n"
     ]
    }
   ],
   "source": [
    "print(f\"input_tensor: {input_tensor}\")\r\n",
    "print(f\"target_tensor: {target_tensor}\")"
   ]
  },
  {
   "cell_type": "code",
   "execution_count": null,
   "metadata": {},
   "outputs": [],
   "source": []
  }
 ]
}